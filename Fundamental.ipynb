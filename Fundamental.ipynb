{
 "cells": [
  {
   "cell_type": "code",
   "execution_count": 1,
   "id": "initial_id",
   "metadata": {
    "collapsed": true,
    "ExecuteTime": {
     "end_time": "2024-05-16T15:49:12.702668Z",
     "start_time": "2024-05-16T15:49:09.266723Z"
    }
   },
   "outputs": [],
   "source": [
    "import tensorflow as tf\n",
    "import numpy as np"
   ]
  },
  {
   "cell_type": "code",
   "outputs": [
    {
     "data": {
      "text/plain": "<tf.Tensor: shape=(4, 4), dtype=float32, numpy=\narray([[0., 1., 0., 0.],\n       [0., 0., 0., 1.],\n       [0., 0., 1., 0.],\n       [0., 0., 0., 0.]], dtype=float32)>"
     },
     "execution_count": 2,
     "metadata": {},
     "output_type": "execute_result"
    }
   ],
   "source": [
    "some_list=[1,3,2,4]\n",
    "tf.one_hot(some_list,depth=4)"
   ],
   "metadata": {
    "collapsed": false,
    "ExecuteTime": {
     "end_time": "2024-05-16T15:49:12.726751Z",
     "start_time": "2024-05-16T15:49:12.703677Z"
    }
   },
   "id": "a8399b314df910fb",
   "execution_count": 2
  },
  {
   "cell_type": "code",
   "outputs": [
    {
     "data": {
      "text/plain": "<tf.Tensor: shape=(4, 4), dtype=float32, numpy=\narray([[0., 1., 0., 0.],\n       [0., 0., 0., 0.],\n       [0., 0., 0., 1.],\n       [0., 0., 1., 0.]], dtype=float32)>"
     },
     "execution_count": 3,
     "metadata": {},
     "output_type": "execute_result"
    }
   ],
   "source": [
    "some_list1=[1,5,3,2]\n",
    "tf.one_hot(some_list1,depth=4)"
   ],
   "metadata": {
    "collapsed": false,
    "ExecuteTime": {
     "end_time": "2024-05-16T15:49:12.733169Z",
     "start_time": "2024-05-16T15:49:12.726751Z"
    }
   },
   "id": "2df5dd816e5f6e4f",
   "execution_count": 3
  },
  {
   "cell_type": "code",
   "outputs": [
    {
     "data": {
      "text/plain": "<tf.Tensor: shape=(4, 4), dtype=string, numpy=\narray([[b'bye', b'hello', b'bye', b'bye'],\n       [b'bye', b'bye', b'bye', b'hello'],\n       [b'bye', b'bye', b'hello', b'bye'],\n       [b'bye', b'bye', b'bye', b'bye']], dtype=object)>"
     },
     "execution_count": 4,
     "metadata": {},
     "output_type": "execute_result"
    }
   ],
   "source": [
    "tf.one_hot(some_list,depth=4,on_value='hello',off_value='bye')"
   ],
   "metadata": {
    "collapsed": false,
    "ExecuteTime": {
     "end_time": "2024-05-16T15:49:12.746091Z",
     "start_time": "2024-05-16T15:49:12.733169Z"
    }
   },
   "id": "5e1ad1676b20a940",
   "execution_count": 4
  },
  {
   "cell_type": "code",
   "outputs": [],
   "source": [
    "#tf.square, tf.sqrt,tf.math.log"
   ],
   "metadata": {
    "collapsed": false,
    "ExecuteTime": {
     "end_time": "2024-05-16T15:49:12.753410Z",
     "start_time": "2024-05-16T15:49:12.747098Z"
    }
   },
   "id": "114b1322e0a92d49",
   "execution_count": 5
  },
  {
   "cell_type": "code",
   "outputs": [],
   "source": [
    "#tf.reduce_max(),tf.reduce_prod(),tf.argmax(),tf.argmin()"
   ],
   "metadata": {
    "collapsed": false,
    "ExecuteTime": {
     "end_time": "2024-05-16T15:49:12.763089Z",
     "start_time": "2024-05-16T15:49:12.753410Z"
    }
   },
   "id": "7df039feef4a1043",
   "execution_count": 6
  },
  {
   "cell_type": "code",
   "outputs": [
    {
     "data": {
      "text/plain": "(TensorShape([1, 1, 1, 1, 50]), 5)"
     },
     "execution_count": 7,
     "metadata": {},
     "output_type": "execute_result"
    }
   ],
   "source": [
    "G=tf.constant(np.random.randint(0,100,50),shape=(1,1,1,1,50))\n",
    "G.shape,G.ndim"
   ],
   "metadata": {
    "collapsed": false,
    "ExecuteTime": {
     "end_time": "2024-05-16T15:49:12.775890Z",
     "start_time": "2024-05-16T15:49:12.763089Z"
    }
   },
   "id": "d3393a6495349738",
   "execution_count": 7
  },
  {
   "cell_type": "code",
   "outputs": [
    {
     "data": {
      "text/plain": "(TensorShape([50]), 1)"
     },
     "execution_count": 8,
     "metadata": {},
     "output_type": "execute_result"
    }
   ],
   "source": [
    "G_squeeze=tf.squeeze(G)\n",
    "G_squeeze.shape,G_squeeze.ndim"
   ],
   "metadata": {
    "collapsed": false,
    "ExecuteTime": {
     "end_time": "2024-05-16T15:49:12.785216Z",
     "start_time": "2024-05-16T15:49:12.775890Z"
    }
   },
   "id": "1379aa12a6f7aa38",
   "execution_count": 8
  },
  {
   "cell_type": "code",
   "outputs": [
    {
     "data": {
      "text/plain": "(<tf.Tensor: shape=(2,), dtype=float32, numpy=array([1.7, 7.4], dtype=float32)>,\n <tf.Tensor: shape=(2,), dtype=float16, numpy=array([1.7, 7.4], dtype=float16)>)"
     },
     "execution_count": 9,
     "metadata": {},
     "output_type": "execute_result"
    }
   ],
   "source": [
    "B=tf.constant([1.7,7.4])\n",
    "C=tf.cast(B,dtype=tf.float16)\n",
    "B,C"
   ],
   "metadata": {
    "collapsed": false,
    "ExecuteTime": {
     "end_time": "2024-05-16T15:49:12.794966Z",
     "start_time": "2024-05-16T15:49:12.785216Z"
    }
   },
   "id": "a0b3ad07940d893",
   "execution_count": 9
  },
  {
   "cell_type": "markdown",
   "source": [
    ".assign() - assign a different value to a particular index of a variable tensor.\n",
    ".add_assign() - add to an existing value and reassign it at a particular index of a variable tensor."
   ],
   "metadata": {
    "collapsed": false
   },
   "id": "6cb3abef0ca27f1d"
  },
  {
   "cell_type": "code",
   "outputs": [
    {
     "data": {
      "text/plain": "<tf.Variable 'Variable:0' shape=(5,) dtype=int32, numpy=array([0, 1, 2, 3, 4])>"
     },
     "execution_count": 10,
     "metadata": {},
     "output_type": "execute_result"
    }
   ],
   "source": [
    "I=tf.Variable(np.arange(0,5))\n",
    "I"
   ],
   "metadata": {
    "collapsed": false,
    "ExecuteTime": {
     "end_time": "2024-05-16T15:49:12.809422Z",
     "start_time": "2024-05-16T15:49:12.794966Z"
    }
   },
   "id": "50aeecbf566672a7",
   "execution_count": 10
  },
  {
   "cell_type": "code",
   "outputs": [
    {
     "data": {
      "text/plain": "<tf.Variable 'UnreadVariable' shape=(5,) dtype=int32, numpy=array([ 0,  1,  2,  3, 50])>"
     },
     "execution_count": 11,
     "metadata": {},
     "output_type": "execute_result"
    }
   ],
   "source": [
    "I.assign([0,1,2,3,50])"
   ],
   "metadata": {
    "collapsed": false,
    "ExecuteTime": {
     "end_time": "2024-05-16T15:49:12.815303Z",
     "start_time": "2024-05-16T15:49:12.809422Z"
    }
   },
   "id": "65ebd9115b8fa0c9",
   "execution_count": 11
  },
  {
   "cell_type": "code",
   "outputs": [
    {
     "data": {
      "text/plain": "<tf.Variable 'UnreadVariable' shape=(5,) dtype=int32, numpy=array([10, 11, 12, 23, 70])>"
     },
     "execution_count": 12,
     "metadata": {},
     "output_type": "execute_result"
    }
   ],
   "source": [
    "I.assign_add([10,10,10,20,20])"
   ],
   "metadata": {
    "collapsed": false,
    "ExecuteTime": {
     "end_time": "2024-05-16T15:49:12.825608Z",
     "start_time": "2024-05-16T15:49:12.815303Z"
    }
   },
   "id": "5e09bd972c9d3dc4",
   "execution_count": 12
  },
  {
   "cell_type": "markdown",
   "source": [
    "np.array() - pass a tensor to convert to a ndarray (NumPy's main datatype).\n",
    "tensor.numpy() - call on a tensor to convert to a ndarray."
   ],
   "metadata": {
    "collapsed": false
   },
   "id": "268499136cdc249c"
  },
  {
   "cell_type": "code",
   "outputs": [
    {
     "data": {
      "text/plain": "(<tf.Tensor: shape=(3,), dtype=float64, numpy=array([ 3.,  7., 10.])>,\n array([ 3.,  7., 10.]),\n array([ 3.,  7., 10.]))"
     },
     "execution_count": 13,
     "metadata": {},
     "output_type": "execute_result"
    }
   ],
   "source": [
    "J=tf.constant(np.array([3.,7.,10.]))\n",
    "J1=np.array(J)\n",
    "J2=J.numpy()\n",
    "J,J1,J2"
   ],
   "metadata": {
    "collapsed": false,
    "ExecuteTime": {
     "end_time": "2024-05-16T15:49:12.836389Z",
     "start_time": "2024-05-16T15:49:12.825608Z"
    }
   },
   "id": "4f28bf3eae39ad70",
   "execution_count": 13
  },
  {
   "cell_type": "raw",
   "source": [
    "Using @tf.function"
   ],
   "metadata": {
    "collapsed": false
   },
   "id": "bcc11d104b6869ea"
  },
  {
   "cell_type": "code",
   "outputs": [
    {
     "data": {
      "text/plain": "<tf.Tensor: shape=(10,), dtype=int32, numpy=array([ 10,  12,  16,  22,  30,  40,  52,  66,  82, 100])>"
     },
     "execution_count": 14,
     "metadata": {},
     "output_type": "execute_result"
    }
   ],
   "source": [
    "@tf.function\n",
    "def tf_function(x,y):\n",
    "    return x**2+y\n",
    "x=tf.constant(np.arange(0,10))\n",
    "y=tf.constant(np.arange(10,20))\n",
    "tf_function(x,y)"
   ],
   "metadata": {
    "collapsed": false,
    "ExecuteTime": {
     "end_time": "2024-05-16T15:49:12.872348Z",
     "start_time": "2024-05-16T15:49:12.837395Z"
    }
   },
   "id": "64db47b45eb95e27",
   "execution_count": 14
  },
  {
   "cell_type": "raw",
   "source": [
    "Finding access to GPUs"
   ],
   "metadata": {
    "collapsed": false
   },
   "id": "11e52c9ca59006f5"
  },
  {
   "cell_type": "code",
   "outputs": [
    {
     "name": "stdout",
     "output_type": "stream",
     "text": [
      "GPUs available: []\n"
     ]
    }
   ],
   "source": [
    "gpus = tf.config.list_physical_devices('GPU')\n",
    "print(\"GPUs available:\", gpus)"
   ],
   "metadata": {
    "collapsed": false,
    "ExecuteTime": {
     "end_time": "2024-05-16T15:49:12.876155Z",
     "start_time": "2024-05-16T15:49:12.872348Z"
    }
   },
   "id": "62e085cde4bf9a80",
   "execution_count": 15
  },
  {
   "cell_type": "code",
   "outputs": [
    {
     "name": "stdout",
     "output_type": "stream",
     "text": [
      "Thu May 16 10:49:12 2024       \n",
      "+---------------------------------------------------------------------------------------+\n",
      "| NVIDIA-SMI 536.19                 Driver Version: 536.19       CUDA Version: 12.2     |\n",
      "|-----------------------------------------+----------------------+----------------------+\n",
      "| GPU  Name                     TCC/WDDM  | Bus-Id        Disp.A | Volatile Uncorr. ECC |\n",
      "| Fan  Temp   Perf          Pwr:Usage/Cap |         Memory-Usage | GPU-Util  Compute M. |\n",
      "|                                         |                      |               MIG M. |\n",
      "|=========================================+======================+======================|\n",
      "|   0  NVIDIA GeForce RTX 3070      WDDM  | 00000000:01:00.0  On |                  N/A |\n",
      "| 30%   48C    P0              46W / 220W |   1979MiB /  8192MiB |     35%      Default |\n",
      "|                                         |                      |                  N/A |\n",
      "+-----------------------------------------+----------------------+----------------------+\n",
      "                                                                                         \n",
      "+---------------------------------------------------------------------------------------+\n",
      "| Processes:                                                                            |\n",
      "|  GPU   GI   CI        PID   Type   Process name                            GPU Memory |\n",
      "|        ID   ID                                                             Usage      |\n",
      "|=======================================================================================|\n",
      "|    0   N/A  N/A      1972    C+G   ...5.7.3.0_x64__htrsf667h5kn2\\AWCC.exe    N/A      |\n",
      "|    0   N/A  N/A      3636    C+G   ...CBS_cw5n1h2txyewy\\TextInputHost.exe    N/A      |\n",
      "|    0   N/A  N/A      4860    C+G   ...wekyb3d8bbwe\\XboxGameBarWidgets.exe    N/A      |\n",
      "|    0   N/A  N/A      6900    C+G   ...GeForce Experience\\NVIDIA Share.exe    N/A      |\n",
      "|    0   N/A  N/A      7656    C+G   ...__8wekyb3d8bbwe\\WindowsTerminal.exe    N/A      |\n",
      "|    0   N/A  N/A     15320    C+G   ...ces\\Razer Central\\Razer Central.exe    N/A      |\n",
      "|    0   N/A  N/A     20732    C+G   ...on\\122.0.2365.59\\msedgewebview2.exe    N/A      |\n",
      "|    0   N/A  N/A     21972    C+G   ...GeForce Experience\\NVIDIA Share.exe    N/A      |\n",
      "|    0   N/A  N/A     22968    C+G   C:\\Program Files\\Tencent\\QQNT\\QQ.exe      N/A      |\n",
      "|    0   N/A  N/A     25296    C+G   ...on\\wallpaper_engine\\wallpaper32.exe    N/A      |\n",
      "|    0   N/A  N/A     26312    C+G   ...5n1h2txyewy\\ShellExperienceHost.exe    N/A      |\n",
      "|    0   N/A  N/A     31168    C+G   ...nt.CBS_cw5n1h2txyewy\\SearchHost.exe    N/A      |\n",
      "|    0   N/A  N/A     31308    C+G   ...pdnekdrzrea0\\XboxGameBarSpotify.exe    N/A      |\n",
      "|    0   N/A  N/A     31620    C+G   ...2txyewy\\StartMenuExperienceHost.exe    N/A      |\n",
      "|    0   N/A  N/A     31820    C+G   ...oogle\\Chrome\\Application\\chrome.exe    N/A      |\n",
      "|    0   N/A  N/A     33856    C+G   C:\\Windows\\explorer.exe                   N/A      |\n",
      "+---------------------------------------------------------------------------------------+\n"
     ]
    }
   ],
   "source": [
    "!nvidia-smi"
   ],
   "metadata": {
    "collapsed": false,
    "ExecuteTime": {
     "end_time": "2024-05-16T15:49:12.972174Z",
     "start_time": "2024-05-16T15:49:12.877161Z"
    }
   },
   "id": "82f1eee780319c65",
   "execution_count": 16
  },
  {
   "cell_type": "markdown",
   "source": [
    "Create a vector, scalar, matrix and tensor with values of your choosing using tf.constant()"
   ],
   "metadata": {
    "collapsed": false
   },
   "id": "7894e6ab7dee5f98"
  },
  {
   "cell_type": "code",
   "outputs": [
    {
     "data": {
      "text/plain": "(<tf.Tensor: shape=(3,), dtype=int32, numpy=array([10,  5,  4])>,\n <tf.Tensor: shape=(), dtype=int32, numpy=10>,\n <tf.Tensor: shape=(3, 3), dtype=int32, numpy=\n array([[10,  3,  5],\n        [ 2,  6,  4],\n        [ 1,  2,  5]])>)"
     },
     "execution_count": 17,
     "metadata": {},
     "output_type": "execute_result"
    }
   ],
   "source": [
    "V1=tf.constant([10,5,4])\n",
    "S1=tf.constant(10)\n",
    "M1=tf.constant([[10,3,5],\n",
    "                [2,6,4],\n",
    "                [1,2,5]])\n",
    "V1,S1,M1"
   ],
   "metadata": {
    "collapsed": false,
    "ExecuteTime": {
     "end_time": "2024-05-16T20:26:48.897868Z",
     "start_time": "2024-05-16T20:26:48.856177Z"
    }
   },
   "id": "d6a1778c6f80abbe",
   "execution_count": 17
  },
  {
   "cell_type": "markdown",
   "source": [
    "Find the shape, rank and size of the tensors you created in 1."
   ],
   "metadata": {
    "collapsed": false
   },
   "id": "f1c2fa8abc56a9d6"
  },
  {
   "cell_type": "code",
   "outputs": [
    {
     "data": {
      "text/plain": "(2,\n <tf.Tensor: shape=(2,), dtype=int32, numpy=array([3, 3])>,\n <tf.Tensor: shape=(), dtype=int32, numpy=2>,\n <tf.Tensor: shape=(), dtype=int32, numpy=9>)"
     },
     "execution_count": 20,
     "metadata": {},
     "output_type": "execute_result"
    }
   ],
   "source": [
    "M1.ndim,tf.shape(M1),tf.rank(M1),tf.size(M1)"
   ],
   "metadata": {
    "collapsed": false,
    "ExecuteTime": {
     "end_time": "2024-05-16T20:30:20.911963Z",
     "start_time": "2024-05-16T20:30:20.896652Z"
    }
   },
   "id": "1aa1558ca1b231ba",
   "execution_count": 20
  },
  {
   "cell_type": "markdown",
   "source": [
    "Create two tensors containing random values between 0 and 1 with shape [5, 300]"
   ],
   "metadata": {
    "collapsed": false
   },
   "id": "e5854e3e39e0efab"
  },
  {
   "cell_type": "code",
   "outputs": [
    {
     "data": {
      "text/plain": "(<tf.Tensor: shape=(5, 300), dtype=float32, numpy=\n array([[0.789644  , 0.17257857, 0.9165541 , ..., 0.0300858 , 0.36995125,\n         0.7668561 ],\n        [0.5834409 , 0.07012653, 0.22920871, ..., 0.97484124, 0.41976702,\n         0.2790693 ],\n        [0.38996935, 0.2905364 , 0.22521067, ..., 0.6166146 , 0.07772422,\n         0.8844168 ],\n        [0.03279972, 0.13195038, 0.6208793 , ..., 0.9997759 , 0.35373628,\n         0.7085836 ],\n        [0.96520674, 0.60565877, 0.48562992, ..., 0.67013   , 0.5366118 ,\n         0.45016944]], dtype=float32)>,\n <tf.Tensor: shape=(5, 300), dtype=float32, numpy=\n array([[0.28474474, 0.96963763, 0.80763423, ..., 0.31817782, 0.6470914 ,\n         0.6762922 ],\n        [0.30655575, 0.6323496 , 0.72348857, ..., 0.48267913, 0.75658345,\n         0.6541388 ],\n        [0.8231605 , 0.10821152, 0.01528645, ..., 0.6403252 , 0.6189134 ,\n         0.11296153],\n        [0.76510775, 0.57062316, 0.7785436 , ..., 0.6758702 , 0.08756006,\n         0.86888754],\n        [0.64451826, 0.5478951 , 0.765048  , ..., 0.6407416 , 0.39404845,\n         0.19588768]], dtype=float32)>)"
     },
     "execution_count": 21,
     "metadata": {},
     "output_type": "execute_result"
    }
   ],
   "source": [
    "R1=tf.random.uniform(shape=[5,300],minval=0,maxval=1)\n",
    "R2=tf.random.uniform(shape=[5,300],minval=0,maxval=1)\n",
    "R1,R2"
   ],
   "metadata": {
    "collapsed": false,
    "ExecuteTime": {
     "end_time": "2024-05-16T20:39:45.077475Z",
     "start_time": "2024-05-16T20:39:45.067733Z"
    }
   },
   "id": "2d52e26febaff7a7",
   "execution_count": 21
  },
  {
   "cell_type": "markdown",
   "source": [
    "Multiply the two tensors you created in 3 using matrix multiplication.\n",
    "Multiply the two tensors you created in 3 using dot product"
   ],
   "metadata": {
    "collapsed": false
   },
   "id": "4e6437194f606e27"
  },
  {
   "cell_type": "code",
   "outputs": [
    {
     "data": {
      "text/plain": "(<tf.Tensor: shape=(5, 5), dtype=float32, numpy=\n array([[72.96949 , 69.4985  , 75.03291 , 72.381836, 79.295235],\n        [71.71681 , 68.75    , 76.61481 , 72.09191 , 79.99255 ],\n        [64.81653 , 63.77592 , 68.261314, 66.161545, 73.200905],\n        [71.85776 , 71.60929 , 76.89269 , 71.264206, 79.12492 ],\n        [70.58033 , 69.79489 , 74.59768 , 69.628334, 78.64021 ]],\n       dtype=float32)>,\n <tf.Tensor: shape=(5, 5), dtype=float32, numpy=\n array([[72.96949 , 69.4985  , 75.03291 , 72.381836, 79.295235],\n        [71.71681 , 68.75    , 76.61481 , 72.09191 , 79.99255 ],\n        [64.81653 , 63.77592 , 68.261314, 66.161545, 73.200905],\n        [71.85776 , 71.60929 , 76.89269 , 71.264206, 79.12492 ],\n        [70.58033 , 69.79489 , 74.59768 , 69.628334, 78.64021 ]],\n       dtype=float32)>)"
     },
     "execution_count": 29,
     "metadata": {},
     "output_type": "execute_result"
    }
   ],
   "source": [
    "MT1=tf.matmul(R1,tf.transpose(R2))\n",
    "\n",
    "MT2=tf.tensordot(R1,tf.transpose(R2),axes=1)\n",
    "MT1,MT2"
   ],
   "metadata": {
    "collapsed": false,
    "ExecuteTime": {
     "end_time": "2024-05-16T20:47:28.077994Z",
     "start_time": "2024-05-16T20:47:28.072628Z"
    }
   },
   "id": "760c788e89540952",
   "execution_count": 29
  },
  {
   "cell_type": "markdown",
   "source": [
    "Create a tensor with random values between 0 and 1 with shape [224, 224, 3].\n"
   ],
   "metadata": {
    "collapsed": false
   },
   "id": "65ba1f12a82f40c3"
  },
  {
   "cell_type": "code",
   "outputs": [
    {
     "data": {
      "text/plain": "<tf.Tensor: shape=(224, 224, 3), dtype=float32, numpy=\narray([[[0.5983143 , 0.03362739, 0.49445426],\n        [0.5643481 , 0.10439372, 0.5118773 ],\n        [0.00610089, 0.71662426, 0.1605227 ],\n        ...,\n        [0.82940733, 0.38050282, 0.05694962],\n        [0.35988498, 0.5003172 , 0.9666573 ],\n        [0.81760395, 0.5786804 , 0.20229709]],\n\n       [[0.44126248, 0.9720149 , 0.27271557],\n        [0.6782805 , 0.8630806 , 0.47211707],\n        [0.47792017, 0.91811085, 0.43056452],\n        ...,\n        [0.34374118, 0.3128215 , 0.53161407],\n        [0.41706073, 0.38692784, 0.25574684],\n        [0.5513288 , 0.26505423, 0.17977047]],\n\n       [[0.76519144, 0.8704493 , 0.994931  ],\n        [0.9972819 , 0.10987401, 0.7344117 ],\n        [0.9824033 , 0.0194701 , 0.6118089 ],\n        ...,\n        [0.3686651 , 0.9161235 , 0.61187243],\n        [0.1665684 , 0.0294143 , 0.12802982],\n        [0.7086643 , 0.5294471 , 0.9440514 ]],\n\n       ...,\n\n       [[0.44809198, 0.640074  , 0.05831015],\n        [0.97576904, 0.18393719, 0.9303113 ],\n        [0.04233313, 0.7328352 , 0.07976413],\n        ...,\n        [0.10160279, 0.7608385 , 0.24771273],\n        [0.7127328 , 0.20778048, 0.8461127 ],\n        [0.62638927, 0.7401633 , 0.9008466 ]],\n\n       [[0.8217362 , 0.4287721 , 0.93159294],\n        [0.93077314, 0.47725332, 0.95144475],\n        [0.59897065, 0.54505706, 0.43965054],\n        ...,\n        [0.43942475, 0.45861256, 0.21855354],\n        [0.94246995, 0.3327813 , 0.10849345],\n        [0.5039989 , 0.5739579 , 0.56967545]],\n\n       [[0.70041406, 0.94191587, 0.37489343],\n        [0.11092389, 0.41777885, 0.41049814],\n        [0.78404963, 0.09515762, 0.34939647],\n        ...,\n        [0.52680624, 0.82901776, 0.5756017 ],\n        [0.883816  , 0.1547972 , 0.49286878],\n        [0.89382756, 0.5530225 , 0.8195168 ]]], dtype=float32)>"
     },
     "execution_count": 30,
     "metadata": {},
     "output_type": "execute_result"
    }
   ],
   "source": [
    "T1=tf.random.uniform(shape=[224,224,3],minval=0,maxval=1)\n",
    "T1"
   ],
   "metadata": {
    "collapsed": false,
    "ExecuteTime": {
     "end_time": "2024-05-16T20:48:32.599482Z",
     "start_time": "2024-05-16T20:48:32.594062Z"
    }
   },
   "id": "a6a58842f85cf1f9",
   "execution_count": 30
  },
  {
   "cell_type": "markdown",
   "source": [
    "Created a tensor with random values of shape [1, 224, 224, 3] then squeeze it to change the shape to [224, 224, 3]."
   ],
   "metadata": {
    "collapsed": false
   },
   "id": "12e3cc923205866a"
  },
  {
   "cell_type": "code",
   "outputs": [
    {
     "data": {
      "text/plain": "(TensorShape([1, 224, 224, 3]), TensorShape([224, 224, 3]))"
     },
     "execution_count": 32,
     "metadata": {},
     "output_type": "execute_result"
    }
   ],
   "source": [
    "T2=tf.random.uniform(shape=[1,224,224,3],minval=0,maxval=1)\n",
    "T2_sq=tf.squeeze(T2)\n",
    "T2.shape,T2_sq.shape"
   ],
   "metadata": {
    "collapsed": false,
    "ExecuteTime": {
     "end_time": "2024-05-16T20:50:20.982221Z",
     "start_time": "2024-05-16T20:50:20.978248Z"
    }
   },
   "id": "f46603be7f639bc",
   "execution_count": 32
  },
  {
   "cell_type": "markdown",
   "source": [
    "Create a tensor with shape [10] using your own choice of values, then find the index which has the maximum value."
   ],
   "metadata": {
    "collapsed": false
   },
   "id": "758a5de77b8c44e3"
  },
  {
   "cell_type": "code",
   "outputs": [
    {
     "data": {
      "text/plain": "(<tf.Tensor: shape=(10,), dtype=int32, numpy=array([7, 7, 7, 1, 9, 1, 9, 5, 2, 0])>,\n <tf.Tensor: shape=(), dtype=int32, numpy=9>)"
     },
     "execution_count": 43,
     "metadata": {},
     "output_type": "execute_result"
    }
   ],
   "source": [
    "T3=tf.random.uniform(shape=[10],minval=0,maxval=10,dtype=tf.int32)\n",
    "m3=tf.reduce_max(T3)\n",
    "T3,m3"
   ],
   "metadata": {
    "collapsed": false,
    "ExecuteTime": {
     "end_time": "2024-05-16T21:00:08.038327Z",
     "start_time": "2024-05-16T21:00:08.034096Z"
    }
   },
   "id": "fddcec78323845ae",
   "execution_count": 43
  },
  {
   "cell_type": "markdown",
   "source": [
    "One-hot encode the tensor you created in 9.\n"
   ],
   "metadata": {
    "collapsed": false
   },
   "id": "e1692633569ede04"
  },
  {
   "cell_type": "code",
   "outputs": [
    {
     "data": {
      "text/plain": "<tf.Tensor: shape=(10, 10), dtype=float32, numpy=\narray([[0., 0., 0., 0., 0., 0., 0., 1., 0., 0.],\n       [0., 0., 0., 0., 0., 0., 0., 1., 0., 0.],\n       [0., 0., 0., 0., 0., 0., 0., 1., 0., 0.],\n       [0., 1., 0., 0., 0., 0., 0., 0., 0., 0.],\n       [0., 0., 0., 0., 0., 0., 0., 0., 0., 1.],\n       [0., 1., 0., 0., 0., 0., 0., 0., 0., 0.],\n       [0., 0., 0., 0., 0., 0., 0., 0., 0., 1.],\n       [0., 0., 0., 0., 0., 1., 0., 0., 0., 0.],\n       [0., 0., 1., 0., 0., 0., 0., 0., 0., 0.],\n       [1., 0., 0., 0., 0., 0., 0., 0., 0., 0.]], dtype=float32)>"
     },
     "execution_count": 44,
     "metadata": {},
     "output_type": "execute_result"
    }
   ],
   "source": [
    "o1=tf.one_hot(T3,depth=10)\n",
    "o1"
   ],
   "metadata": {
    "collapsed": false,
    "ExecuteTime": {
     "end_time": "2024-05-16T21:00:09.751540Z",
     "start_time": "2024-05-16T21:00:09.746882Z"
    }
   },
   "id": "f40e94a8eb6a051",
   "execution_count": 44
  },
  {
   "cell_type": "code",
   "outputs": [],
   "source": [],
   "metadata": {
    "collapsed": false
   },
   "id": "95dd736ac0f4d927"
  }
 ],
 "metadata": {
  "kernelspec": {
   "display_name": "Python 3",
   "language": "python",
   "name": "python3"
  },
  "language_info": {
   "codemirror_mode": {
    "name": "ipython",
    "version": 2
   },
   "file_extension": ".py",
   "mimetype": "text/x-python",
   "name": "python",
   "nbconvert_exporter": "python",
   "pygments_lexer": "ipython2",
   "version": "2.7.6"
  }
 },
 "nbformat": 4,
 "nbformat_minor": 5
}
